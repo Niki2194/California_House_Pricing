{
  "cells": [
    {
      "cell_type": "markdown",
      "metadata": {
        "id": "view-in-github",
        "colab_type": "text"
      },
      "source": [
        "<a href=\"https://colab.research.google.com/github/Niki2194/California_House_Pricing/blob/main/AI_use_case.ipynb\" target=\"_parent\"><img src=\"https://colab.research.google.com/assets/colab-badge.svg\" alt=\"Open In Colab\"/></a>"
      ]
    },
    {
      "cell_type": "code",
      "source": [
        "!pip install openslide-bin"
      ],
      "metadata": {
        "colab": {
          "base_uri": "https://localhost:8080/"
        },
        "id": "mDokW4WawemF",
        "outputId": "4bd6b76f-3b1d-4384-e013-b9949ebbabc7"
      },
      "execution_count": null,
      "outputs": [
        {
          "output_type": "stream",
          "name": "stdout",
          "text": [
            "Collecting openslide-bin\n",
            "  Downloading openslide_bin-4.0.0.8-py3-none-manylinux_2_28_x86_64.whl.metadata (4.5 kB)\n",
            "Downloading openslide_bin-4.0.0.8-py3-none-manylinux_2_28_x86_64.whl (4.3 MB)\n",
            "\u001b[?25l   \u001b[90m━━━━━━━━━━━━━━━━━━━━━━━━━━━━━━━━━━━━━━━━\u001b[0m \u001b[32m0.0/4.3 MB\u001b[0m \u001b[31m?\u001b[0m eta \u001b[36m-:--:--\u001b[0m\r\u001b[2K   \u001b[91m━━━━━━━━━━━━━━━━━━━━━━━━━━━━━\u001b[0m\u001b[91m╸\u001b[0m\u001b[90m━━━━━━━━━━\u001b[0m \u001b[32m3.2/4.3 MB\u001b[0m \u001b[31m129.2 MB/s\u001b[0m eta \u001b[36m0:00:01\u001b[0m\r\u001b[2K   \u001b[90m━━━━━━━━━━━━━━━━━━━━━━━━━━━━━━━━━━━━━━━━\u001b[0m \u001b[32m4.3/4.3 MB\u001b[0m \u001b[31m78.8 MB/s\u001b[0m eta \u001b[36m0:00:00\u001b[0m\n",
            "\u001b[?25hInstalling collected packages: openslide-bin\n",
            "Successfully installed openslide-bin-4.0.0.8\n"
          ]
        }
      ]
    },
    {
      "cell_type": "code",
      "execution_count": null,
      "metadata": {
        "colab": {
          "base_uri": "https://localhost:8080/"
        },
        "id": "BkxOcWlJyLT4",
        "outputId": "000d2df3-a7f3-44a7-c2b7-a3205dfd3a97"
      },
      "outputs": [
        {
          "output_type": "stream",
          "name": "stdout",
          "text": [
            "Tile extraction done.\n",
            "Epoch 1/10: Train loss=0.0195, Train acc=0.9932, Test loss=0.0077, Test acc=0.9970\n",
            "Epoch 2/10: Train loss=0.0065, Train acc=0.9978, Test loss=0.0074, Test acc=0.9970\n",
            "Epoch 3/10: Train loss=0.0040, Train acc=0.9986, Test loss=0.0068, Test acc=0.9972\n",
            "Epoch 4/10: Train loss=0.0050, Train acc=0.9984, Test loss=0.0078, Test acc=0.9970\n",
            "Epoch 5/10: Train loss=0.0064, Train acc=0.9976, Test loss=0.1254, Test acc=0.9658\n",
            "Epoch 6/10: Train loss=0.0036, Train acc=0.9987, Test loss=0.0050, Test acc=0.9976\n",
            "Epoch 7/10: Train loss=0.0072, Train acc=0.9976, Test loss=0.0056, Test acc=0.9974\n",
            "Epoch 8/10: Train loss=0.0039, Train acc=0.9985, Test loss=0.0063, Test acc=0.9972\n",
            "Epoch 9/10: Train loss=0.0053, Train acc=0.9981, Test loss=0.0084, Test acc=0.9964\n",
            "Epoch 10/10: Train loss=0.0030, Train acc=0.9989, Test loss=0.0087, Test acc=0.9962\n"
          ]
        }
      ],
      "source": [
        "import openslide\n",
        "import numpy as np\n",
        "import torch\n",
        "import torchvision.transforms as transforms\n",
        "from torchvision.models import resnet18\n",
        "from torch.utils.data import Dataset, DataLoader, random_split\n",
        "from PIL import Image\n",
        "import os\n",
        "from skimage.filters import threshold_otsu\n",
        "\n",
        "# Parameters\n",
        "TILE_SIZE = 224  # input size for ResNet\n",
        "STRIDE = 224     # non-overlapping tiles\n",
        "THRESHOLD_EMPTY = 0.7  # threshold for empty tile (percent white)\n",
        "\n",
        "# Paths to your SVS files\n",
        "svs_files = {\n",
        "    \"b_cell\": \"/content/drive/MyDrive/AI Use Cases/B_cat_KBL_2011T54601.svs\",\n",
        "    \"t_cell\": \"/content/drive/MyDrive/AI Use Cases/T_KTL_2005T52561.svs\"\n",
        "}\n",
        "\n",
        "# Output directories for tiles\n",
        "output_dir = \"./tiles\"\n",
        "os.makedirs(output_dir, exist_ok=True)\n",
        "for cls in svs_files.keys():\n",
        "    os.makedirs(os.path.join(output_dir, cls), exist_ok=True)\n",
        "\n",
        "def is_empty(tile, white_thresh=220, percent_thresh=THRESHOLD_EMPTY):\n",
        "    gray = tile.convert(\"L\")\n",
        "    arr = np.array(gray)\n",
        "    white_pixels = np.sum(arr > white_thresh)\n",
        "    white_fraction = white_pixels / arr.size\n",
        "    return white_fraction > percent_thresh\n",
        "\n",
        "def extract_tiles(svs_path, label, save_dir):\n",
        "    slide = openslide.OpenSlide(svs_path)\n",
        "    w, h = slide.dimensions\n",
        "\n",
        "    count = 0\n",
        "    for y in range(0, h - TILE_SIZE, STRIDE):\n",
        "        for x in range(0, w - TILE_SIZE, STRIDE):\n",
        "            try:\n",
        "                tile = slide.read_region((x, y), 0, (TILE_SIZE, TILE_SIZE)).convert(\"RGB\")\n",
        "            except openslide.OpenSlideError:\n",
        "                print(f\"Skipping tile at {(x, y)} - read error\")\n",
        "                continue\n",
        "            if not is_empty(tile):\n",
        "                # Remove metadata before saving\n",
        "                clean_tile = Image.new(\"RGB\", tile.size)\n",
        "                clean_tile.paste(tile)\n",
        "                clean_tile.save(os.path.join(save_dir, f\"{label}_{count}.png\"))\n",
        "                count += 1\n",
        "    slide.close()\n",
        "\n",
        "# Extract tiles from both slides\n",
        "for label, svs_path in svs_files.items():\n",
        "    extract_tiles(svs_path, label, os.path.join(output_dir, label))\n",
        "\n",
        "print(\"Tile extraction done.\")\n",
        "\n",
        "\n",
        "# Dataset class\n",
        "class CellTilesDataset(Dataset):\n",
        "    def __init__(self, root_dir, transform=None):\n",
        "        self.samples = []\n",
        "        self.transform = transform\n",
        "\n",
        "        for label_idx, cls in enumerate([\"b_cell\", \"t_cell\"]):\n",
        "            cls_dir = os.path.join(root_dir, cls)\n",
        "            for fname in os.listdir(cls_dir):\n",
        "                if fname.endswith(\".png\"):\n",
        "                    self.samples.append((os.path.join(cls_dir, fname), label_idx))\n",
        "\n",
        "    def __len__(self):\n",
        "        return len(self.samples)\n",
        "\n",
        "    def __getitem__(self, idx):\n",
        "        path, label = self.samples[idx]\n",
        "        image = Image.open(path).convert(\"RGB\")\n",
        "        if self.transform:\n",
        "            image = self.transform(image)\n",
        "        return image, label\n",
        "\n",
        "# Transforms for training\n",
        "transform = transforms.Compose([\n",
        "    transforms.Resize((TILE_SIZE, TILE_SIZE)),\n",
        "    transforms.ToTensor(),\n",
        "    transforms.Normalize(mean=[0.485, 0.456, 0.406],  # Imagenet stats\n",
        "                         std=[0.229, 0.224, 0.225]),\n",
        "])\n",
        "\n",
        "# Load dataset\n",
        "dataset = CellTilesDataset(output_dir, transform=transform)\n",
        "\n",
        "# Split dataset into train/test (80/20)\n",
        "train_size = int(0.8 * len(dataset))\n",
        "test_size = len(dataset) - train_size\n",
        "train_set, test_set = random_split(dataset, [train_size, test_size])\n",
        "\n",
        "train_loader = DataLoader(train_set, batch_size=32, shuffle=True)\n",
        "test_loader = DataLoader(test_set, batch_size=32, shuffle=False)\n",
        "\n",
        "# Model\n",
        "device = torch.device(\"cuda\" if torch.cuda.is_available() else \"cpu\")\n",
        "model = resnet18(pretrained=True)\n",
        "model.fc = torch.nn.Linear(model.fc.in_features, 2)  # 2 classes: b_cell, t_cell\n",
        "model = model.to(device)\n",
        "\n",
        "# Loss and optimizer\n",
        "criterion = torch.nn.CrossEntropyLoss()\n",
        "optimizer = torch.optim.Adam(model.parameters(), lr=1e-4)\n",
        "\n",
        "# Training loop\n",
        "def train_epoch(model, dataloader, optimizer, criterion, device):\n",
        "    model.train()\n",
        "    total_loss = 0\n",
        "    correct = 0\n",
        "    for imgs, labels in dataloader:\n",
        "        imgs, labels = imgs.to(device), labels.to(device)\n",
        "        optimizer.zero_grad()\n",
        "        outputs = model(imgs)\n",
        "        loss = criterion(outputs, labels)\n",
        "        loss.backward()\n",
        "        optimizer.step()\n",
        "        total_loss += loss.item() * imgs.size(0)\n",
        "        preds = outputs.argmax(dim=1)\n",
        "        correct += (preds == labels).sum().item()\n",
        "    return total_loss / len(dataloader.dataset), correct / len(dataloader.dataset)\n",
        "\n",
        "def eval_model(model, dataloader, criterion, device):\n",
        "    model.eval()\n",
        "    total_loss = 0\n",
        "    correct = 0\n",
        "    with torch.no_grad():\n",
        "        for imgs, labels in dataloader:\n",
        "            imgs, labels = imgs.to(device), labels.to(device)\n",
        "            outputs = model(imgs)\n",
        "            loss = criterion(outputs, labels)\n",
        "            total_loss += loss.item() * imgs.size(0)\n",
        "            preds = outputs.argmax(dim=1)\n",
        "            correct += (preds == labels).sum().item()\n",
        "    return total_loss / len(dataloader.dataset), correct / len(dataloader.dataset)\n",
        "\n",
        "\n",
        "# Run training for a few epochs\n",
        "num_epochs = 10\n",
        "for epoch in range(num_epochs):\n",
        "    train_loss, train_acc = train_epoch(model, train_loader, optimizer, criterion, device)\n",
        "    test_loss, test_acc = eval_model(model, test_loader, criterion, device)\n",
        "    print(f\"Epoch {epoch+1}/{num_epochs}: Train loss={train_loss:.4f}, Train acc={train_acc:.4f}, Test loss={test_loss:.4f}, Test acc={test_acc:.4f}\")"
      ]
    },
    {
      "cell_type": "code",
      "source": [
        "from sklearn.metrics import accuracy_score, roc_auc_score, f1_score, mean_absolute_error, mean_squared_error, jaccard_score\n",
        "import torch.nn.functional as F\n",
        "\n",
        "def compute_metrics(model, dataloader, device):\n",
        "    model.eval()\n",
        "    all_preds = []\n",
        "    all_probs = []\n",
        "    all_labels = []\n",
        "\n",
        "    with torch.no_grad():\n",
        "        for imgs, labels in dataloader:\n",
        "            imgs, labels = imgs.to(device), labels.to(device)\n",
        "            outputs = model(imgs)\n",
        "            probs = F.softmax(outputs, dim=1)\n",
        "            preds = torch.argmax(probs, dim=1)\n",
        "\n",
        "            all_preds.extend(preds.cpu().numpy())\n",
        "            all_probs.extend(probs[:, 1].cpu().numpy())  # Probability of class 1 (t_cell)\n",
        "            all_labels.extend(labels.cpu().numpy())\n",
        "\n",
        "    # Convert to numpy\n",
        "    y_true = np.array(all_labels)\n",
        "    y_pred = np.array(all_preds)\n",
        "    y_prob = np.array(all_probs)\n",
        "\n",
        "    # Metrics\n",
        "    acc = accuracy_score(y_true, y_pred)\n",
        "    auc = roc_auc_score(y_true, y_prob)\n",
        "    f1 = f1_score(y_true, y_pred)\n",
        "    mad = mean_absolute_error(y_true, y_pred)\n",
        "    mse = mean_squared_error(y_true, y_pred)\n",
        "    iou = jaccard_score(y_true, y_pred)\n",
        "\n",
        "    print(f\"Accuracy:     {acc:.4f}\")\n",
        "    print(f\"AUC:          {auc:.4f}\")\n",
        "    print(f\"F1 Score:     {f1:.4f}\")\n",
        "    print(f\"MAD:          {mad:.4f}\")\n",
        "    print(f\"MSE:          {mse:.4f}\")\n",
        "    print(f\"IoU (Jaccard):{iou:.4f}\")\n",
        "\n",
        "    return {\n",
        "        \"accuracy\": acc,\n",
        "        \"auc\": auc,\n",
        "        \"f1\": f1,\n",
        "        \"mad\": mad,\n",
        "        \"mse\": mse,\n",
        "        \"iou\": iou\n",
        "    }"
      ],
      "metadata": {
        "id": "_8w1E2O-FJ51"
      },
      "execution_count": null,
      "outputs": []
    },
    {
      "cell_type": "code",
      "source": [
        "metrics = compute_metrics(model, test_loader, device)"
      ],
      "metadata": {
        "colab": {
          "base_uri": "https://localhost:8080/"
        },
        "id": "iRf-H_bgFN5p",
        "outputId": "1ebe4953-0248-4663-a8e0-02d391109da7"
      },
      "execution_count": null,
      "outputs": [
        {
          "output_type": "stream",
          "name": "stdout",
          "text": [
            "Accuracy:     0.9962\n",
            "AUC:          0.9999\n",
            "F1 Score:     0.9951\n",
            "MAD:          0.0038\n",
            "MSE:          0.0038\n",
            "IoU (Jaccard):0.9903\n"
          ]
        }
      ]
    },
    {
      "cell_type": "code",
      "source": [
        "import matplotlib.pyplot as plt\n",
        "import seaborn as sns\n",
        "\n",
        "def plot_metrics(metrics):\n",
        "    # Set plot style\n",
        "    sns.set(style=\"whitegrid\")\n",
        "\n",
        "    # Prepare data\n",
        "    metric_names = list(metrics.keys())\n",
        "    metric_values = list(metrics.values())\n",
        "\n",
        "    # Create bar plot\n",
        "    plt.figure(figsize=(10, 6))\n",
        "    sns.barplot(x=metric_names, y=metric_values, palette=\"viridis\")\n",
        "\n",
        "    plt.title(\"Model Performance Metrics\")\n",
        "    plt.ylim(0, 1)\n",
        "    for i, val in enumerate(metric_values):\n",
        "        plt.text(i, val + 0.02, f\"{val:.2f}\", ha='center', va='bottom', fontsize=10)\n",
        "\n",
        "    plt.ylabel(\"Score\")\n",
        "    plt.xlabel(\"Metric\")\n",
        "    plt.xticks(rotation=45)\n",
        "    plt.tight_layout()\n",
        "    plt.show()"
      ],
      "metadata": {
        "id": "Lxgh2uBFGGEq"
      },
      "execution_count": null,
      "outputs": []
    },
    {
      "cell_type": "code",
      "source": [
        "metrics = compute_metrics(model, test_loader, device)\n",
        "plot_metrics(metrics)"
      ],
      "metadata": {
        "colab": {
          "base_uri": "https://localhost:8080/",
          "height": 807
        },
        "id": "ovT3CLaDGHzF",
        "outputId": "44637422-b6a8-46a9-9c75-289efea405a8"
      },
      "execution_count": null,
      "outputs": [
        {
          "output_type": "stream",
          "name": "stdout",
          "text": [
            "Accuracy:     0.9962\n",
            "AUC:          0.9999\n",
            "F1 Score:     0.9951\n",
            "MAD:          0.0038\n",
            "MSE:          0.0038\n",
            "IoU (Jaccard):0.9903\n"
          ]
        },
        {
          "output_type": "stream",
          "name": "stderr",
          "text": [
            "/tmp/ipython-input-9-1244018711.py:14: FutureWarning: \n",
            "\n",
            "Passing `palette` without assigning `hue` is deprecated and will be removed in v0.14.0. Assign the `x` variable to `hue` and set `legend=False` for the same effect.\n",
            "\n",
            "  sns.barplot(x=metric_names, y=metric_values, palette=\"viridis\")\n"
          ]
        },
        {
          "output_type": "display_data",
          "data": {
            "text/plain": [
              "<Figure size 1000x600 with 1 Axes>"
            ],
            "image/png": "[encoded data removed]"
          },
          "metadata": {}
        }
      ]
    },
    {
      "cell_type": "code",
      "source": [
        "!rm -rf ./tiles/*"
      ],
      "metadata": {
        "id": "YP3kSyB_7H0c"
      },
      "execution_count": null,
      "outputs": []
    }
  ],
  "metadata": {
    "colab": {
      "provenance": [],
      "gpuType": "T4",
      "include_colab_link": true
    },
    "kernelspec": {
      "display_name": "Python 3",
      "name": "python3"
    },
    "language_info": {
      "name": "python"
    },
    "accelerator": "GPU"
  },
  "nbformat": 4,
  "nbformat_minor": 0
}